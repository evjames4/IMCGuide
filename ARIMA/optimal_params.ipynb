{
 "cells": [
  {
   "cell_type": "code",
   "execution_count": 2,
   "metadata": {},
   "outputs": [],
   "source": [
    "import sys  \n",
    "sys.path.insert(0, './')\n",
    "\n",
    "import numpy as np\n",
    "import pandas as pd\n",
    "import matplotlib.pyplot as plt\n",
    "import pmdarima as pm\n",
    "import seaborn as sns\n",
    "from sklearn.metrics import mean_squared_error\n",
    "from statsmodels.tsa.stattools import adfuller\n",
    "from statsmodels.graphics.tsaplots import plot_acf,plot_pacf\n",
    "plt.style.use('seaborn-v0_8')\n",
    "%matplotlib inline"
   ]
  },
  {
   "cell_type": "code",
   "execution_count": 23,
   "metadata": {},
   "outputs": [],
   "source": [
    "# Filtered to just Bananas\n",
    "df1 = pd.read_csv('../round4/data/prices_round_4_day_1.csv', index_col='timestamp', delimiter=';')\n",
    "df2 = pd.read_csv('../round4/data/prices_round_4_day_2.csv', index_col='timestamp', delimiter=';')\n",
    "df3 = pd.read_csv('../round4/data/prices_round_4_day_3.csv', index_col='timestamp', delimiter=';')\n",
    "df = pd.concat([df1.loc[df1['product']=='BANANAS'], df2.loc[df2['product']=='BANANAS'], df3.loc[df3['product']=='BANANAS']], ignore_index=True)\n",
    "df = df[['mid_price']].rename(columns={'mid_price': 'Value'})"
   ]
  },
  {
   "cell_type": "code",
   "execution_count": 24,
   "metadata": {},
   "outputs": [
    {
     "name": "stdout",
     "output_type": "stream",
     "text": [
      "Performing stepwise search to minimize aic\n",
      " ARIMA(1,1,1)(0,0,0)[0] intercept   : AIC=102302.641, Time=3.06 sec\n",
      " ARIMA(0,1,0)(0,0,0)[0] intercept   : AIC=114617.442, Time=0.33 sec\n",
      " ARIMA(1,1,0)(0,0,0)[0] intercept   : AIC=107179.269, Time=0.72 sec\n",
      " ARIMA(0,1,1)(0,0,0)[0] intercept   : AIC=102303.762, Time=1.97 sec\n",
      " ARIMA(0,1,0)(0,0,0)[0]             : AIC=114615.631, Time=0.27 sec\n",
      " ARIMA(2,1,1)(0,0,0)[0] intercept   : AIC=102304.450, Time=3.88 sec\n",
      " ARIMA(1,1,2)(0,0,0)[0] intercept   : AIC=102306.243, Time=2.82 sec\n",
      " ARIMA(0,1,2)(0,0,0)[0] intercept   : AIC=102302.664, Time=2.39 sec\n",
      " ARIMA(2,1,0)(0,0,0)[0] intercept   : AIC=104617.794, Time=0.99 sec\n",
      " ARIMA(2,1,2)(0,0,0)[0] intercept   : AIC=102306.621, Time=4.00 sec\n",
      " ARIMA(1,1,1)(0,0,0)[0]             : AIC=102304.325, Time=1.18 sec\n",
      "\n",
      "Best model:  ARIMA(1,1,1)(0,0,0)[0] intercept\n",
      "Total fit time: 21.727 seconds\n",
      "                               SARIMAX Results                                \n",
      "==============================================================================\n",
      "Dep. Variable:                      y   No. Observations:                30000\n",
      "Model:               SARIMAX(1, 1, 1)   Log Likelihood              -51147.321\n",
      "Date:                Mon, 27 Mar 2023   AIC                         102302.641\n",
      "Time:                        09:59:45   BIC                         102335.877\n",
      "Sample:                             0   HQIC                        102313.306\n",
      "                              - 30000                                         \n",
      "Covariance Type:                  opg                                         \n",
      "==============================================================================\n",
      "                 coef    std err          z      P>|z|      [0.025      0.975]\n",
      "------------------------------------------------------------------------------\n",
      "intercept     -0.0040      0.002     -1.921      0.055      -0.008    8.21e-05\n",
      "ar.L1          0.0142      0.008      1.813      0.070      -0.001       0.030\n",
      "ma.L1         -0.7268      0.006   -130.552      0.000      -0.738      -0.716\n",
      "sigma2         1.7719      0.012    146.754      0.000       1.748       1.796\n",
      "===================================================================================\n",
      "Ljung-Box (L1) (Q):                   0.00   Jarque-Bera (JB):               961.27\n",
      "Prob(Q):                              0.99   Prob(JB):                         0.00\n",
      "Heteroskedasticity (H):               0.95   Skew:                             0.04\n",
      "Prob(H) (two-sided):                  0.01   Kurtosis:                         3.87\n",
      "===================================================================================\n",
      "\n",
      "Warnings:\n",
      "[1] Covariance matrix calculated using the outer product of gradients (complex-step).\n"
     ]
    }
   ],
   "source": [
    "model_1 = pm.auto_arima(df.Value, start_p=1, start_q=1,\n",
    "                      test='adf',\n",
    "                      max_p=3, max_q=3,\n",
    "                      m=1,\n",
    "                      d=None,\n",
    "                      seasonal=False,\n",
    "                      start_P=0,\n",
    "                      D=0,\n",
    "                      trace=True,\n",
    "                      error_action='ignore',\n",
    "                      suppress_warnings=True,\n",
    "                      stepwise=True)\n",
    "\n",
    "print(model_1.summary())"
   ]
  },
  {
   "cell_type": "code",
   "execution_count": null,
   "metadata": {},
   "outputs": [],
   "source": []
  }
 ],
 "metadata": {
  "kernelspec": {
   "display_name": ".venv",
   "language": "python",
   "name": "python3"
  },
  "language_info": {
   "codemirror_mode": {
    "name": "ipython",
    "version": 3
   },
   "file_extension": ".py",
   "mimetype": "text/x-python",
   "name": "python",
   "nbconvert_exporter": "python",
   "pygments_lexer": "ipython3",
   "version": "3.10.1"
  },
  "orig_nbformat": 4
 },
 "nbformat": 4,
 "nbformat_minor": 2
}
